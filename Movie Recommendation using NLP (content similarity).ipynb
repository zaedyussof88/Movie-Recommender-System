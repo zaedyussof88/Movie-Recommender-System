{
 "cells": [
  {
   "cell_type": "markdown",
   "id": "63f36b3c",
   "metadata": {},
   "source": [
    "# Content\n",
    "\n",
    "- The purpose of the above code is to build a simple movie recommendation system based on content similarity. \n",
    "- The code aims to build a content-based movie recommendation system that leverages textual information (such as plots, genres, actors, directors) to suggest similar movies to users. The recommendation system allows users to input a movie title and receive personalized recommendations based on the content of the movies."
   ]
  },
  {
   "cell_type": "code",
   "execution_count": 1,
   "id": "fa584f84",
   "metadata": {},
   "outputs": [],
   "source": [
    "# Ignore warnings\n",
    "import warnings\n",
    "warnings.simplefilter(action='ignore', category=FutureWarning)\n",
    "warnings.simplefilter(action='ignore', category=DeprecationWarning)"
   ]
  },
  {
   "cell_type": "code",
   "execution_count": 2,
   "id": "89a1e817",
   "metadata": {},
   "outputs": [
    {
     "name": "stdout",
     "output_type": "stream",
     "text": [
      "Requirement already satisfied: rake_nltk in c:\\users\\mohdz\\anaconda3\\lib\\site-packages (1.0.6)\n",
      "Requirement already satisfied: nltk<4.0.0,>=3.6.2 in c:\\users\\mohdz\\anaconda3\\lib\\site-packages (from rake_nltk) (3.8.1)\n",
      "Requirement already satisfied: click in c:\\users\\mohdz\\anaconda3\\lib\\site-packages (from nltk<4.0.0,>=3.6.2->rake_nltk) (8.0.4)\n",
      "Requirement already satisfied: joblib in c:\\users\\mohdz\\anaconda3\\lib\\site-packages (from nltk<4.0.0,>=3.6.2->rake_nltk) (1.2.0)\n",
      "Requirement already satisfied: regex>=2021.8.3 in c:\\users\\mohdz\\anaconda3\\lib\\site-packages (from nltk<4.0.0,>=3.6.2->rake_nltk) (2022.7.9)\n",
      "Requirement already satisfied: tqdm in c:\\users\\mohdz\\anaconda3\\lib\\site-packages (from nltk<4.0.0,>=3.6.2->rake_nltk) (4.65.0)\n",
      "Requirement already satisfied: colorama in c:\\users\\mohdz\\anaconda3\\lib\\site-packages (from click->nltk<4.0.0,>=3.6.2->rake_nltk) (0.4.6)\n"
     ]
    }
   ],
   "source": [
    "#install rake function\n",
    "!pip install rake_nltk"
   ]
  },
  {
   "cell_type": "code",
   "execution_count": 3,
   "id": "82f38dde",
   "metadata": {},
   "outputs": [
    {
     "name": "stderr",
     "output_type": "stream",
     "text": [
      "[nltk_data] Downloading package punkt to\n",
      "[nltk_data]     C:\\Users\\mohdz\\AppData\\Roaming\\nltk_data...\n",
      "[nltk_data]   Package punkt is already up-to-date!\n"
     ]
    },
    {
     "data": {
      "text/plain": [
       "True"
      ]
     },
     "execution_count": 3,
     "metadata": {},
     "output_type": "execute_result"
    }
   ],
   "source": [
    "# Imports\n",
    "import pandas as pd\n",
    "from rake_nltk import Rake\n",
    "from sklearn.metrics.pairwise import cosine_similarity\n",
    "from sklearn.feature_extraction.text import CountVectorizer\n",
    "import nltk\n",
    "nltk.download('punkt')  # Download necessary nltk resources"
   ]
  },
  {
   "cell_type": "code",
   "execution_count": 4,
   "id": "f1c2dcda",
   "metadata": {},
   "outputs": [],
   "source": [
    "# Read the dataset\n",
    "df = pd.read_csv('IMDB_Top250Engmovies2_OMDB_Detailed.csv')"
   ]
  },
  {
   "cell_type": "code",
   "execution_count": 5,
   "id": "0fc7af2a",
   "metadata": {},
   "outputs": [
    {
     "name": "stdout",
     "output_type": "stream",
     "text": [
      "     Unnamed: 0                     Title  Year      Rated     Released  \\\n",
      "0             1  The Shawshank Redemption  1994          R  14 Oct 1994   \n",
      "1             2             The Godfather  1972          R  24 Mar 1972   \n",
      "2             3    The Godfather: Part II  1974          R  20 Dec 1974   \n",
      "3             4           The Dark Knight  2008      PG-13  18 Jul 2008   \n",
      "4             5              12 Angry Men  1957   APPROVED  01 Apr 1957   \n",
      "..          ...                       ...   ...        ...          ...   \n",
      "245         246          The Lost Weekend  1945  NOT RATED  01 Jan 1946   \n",
      "246         247             Short Term 12  2013          R  23 Aug 2013   \n",
      "247         248           His Girl Friday  1940   APPROVED  18 Jan 1940   \n",
      "248         249        The Straight Story  1999          G  03 Nov 1999   \n",
      "249         250       Slumdog Millionaire  2008          R  25 Dec 2008   \n",
      "\n",
      "     Runtime                   Genre                      Director  \\\n",
      "0    142 min            Crime, Drama                Frank Darabont   \n",
      "1    175 min            Crime, Drama          Francis Ford Coppola   \n",
      "2    202 min            Crime, Drama          Francis Ford Coppola   \n",
      "3    152 min    Action, Crime, Drama             Christopher Nolan   \n",
      "4     96 min            Crime, Drama                  Sidney Lumet   \n",
      "..       ...                     ...                           ...   \n",
      "245  101 min        Drama, Film-Noir                  Billy Wilder   \n",
      "246   96 min                   Drama         Destin Daniel Cretton   \n",
      "247   92 min  Comedy, Drama, Romance                  Howard Hawks   \n",
      "248  112 min        Biography, Drama                   David Lynch   \n",
      "249  120 min                   Drama  Danny Boyle, Loveleen Tandan   \n",
      "\n",
      "                                                Writer  \\\n",
      "0    Stephen King (short story \"Rita Hayworth and S...   \n",
      "1    Mario Puzo (screenplay), Francis Ford Coppola ...   \n",
      "2    Francis Ford Coppola (screenplay), Mario Puzo ...   \n",
      "3    Jonathan Nolan (screenplay), Christopher Nolan...   \n",
      "4    Reginald Rose (story), Reginald Rose (screenplay)   \n",
      "..                                                 ...   \n",
      "245  Charles R. Jackson (from the novel by), Charle...   \n",
      "246                              Destin Daniel Cretton   \n",
      "247  Charles Lederer (screen play), Ben Hecht (from...   \n",
      "248                           John Roach, Mary Sweeney   \n",
      "249   Simon Beaufoy (screenplay), Vikas Swarup (novel)   \n",
      "\n",
      "                                                Actors  ... tomatoConsensus  \\\n",
      "0    Tim Robbins, Morgan Freeman, Bob Gunton, Willi...  ...             NaN   \n",
      "1    Marlon Brando, Al Pacino, James Caan, Richard ...  ...             NaN   \n",
      "2    Al Pacino, Robert Duvall, Diane Keaton, Robert...  ...             NaN   \n",
      "3    Christian Bale, Heath Ledger, Aaron Eckhart, M...  ...             NaN   \n",
      "4    Martin Balsam, John Fiedler, Lee J. Cobb, E.G....  ...             NaN   \n",
      "..                                                 ...  ...             ...   \n",
      "245  Ray Milland, Jane Wyman, Phillip Terry, Howard...  ...             NaN   \n",
      "246  Brie Larson, John Gallagher Jr., Stephanie Bea...  ...             NaN   \n",
      "247  Cary Grant, Rosalind Russell, Ralph Bellamy, G...  ...             NaN   \n",
      "248  Sissy Spacek, Jane Galloway Heitz, Joseph A. C...  ...             NaN   \n",
      "249  Dev Patel, Saurabh Shukla, Anil Kapoor, Raj Zu...  ...             NaN   \n",
      "\n",
      "    tomatoUserMeter tomatoUserRating tomatoUserReviews  \\\n",
      "0               NaN              NaN               NaN   \n",
      "1               NaN              NaN               NaN   \n",
      "2               NaN              NaN               NaN   \n",
      "3               NaN              NaN               NaN   \n",
      "4               NaN              NaN               NaN   \n",
      "..              ...              ...               ...   \n",
      "245             NaN              NaN               NaN   \n",
      "246             NaN              NaN               NaN   \n",
      "247             NaN              NaN               NaN   \n",
      "248             NaN              NaN               NaN   \n",
      "249             NaN              NaN               NaN   \n",
      "\n",
      "                                             tomatoURL          DVD  \\\n",
      "0    http://www.rottentomatoes.com/m/shawshank_rede...  27 Jan 1998   \n",
      "1           http://www.rottentomatoes.com/m/godfather/  09 Oct 2001   \n",
      "2    http://www.rottentomatoes.com/m/godfather_part...  24 May 2005   \n",
      "3     http://www.rottentomatoes.com/m/the_dark_knight/  09 Dec 2008   \n",
      "4    http://www.rottentomatoes.com/m/1000013-12_ang...  06 Mar 2001   \n",
      "..                                                 ...          ...   \n",
      "245      http://www.rottentomatoes.com/m/lost_weekend/  06 Feb 2001   \n",
      "246  http://www.rottentomatoes.com/m/short_term_12_...  14 Jan 2014   \n",
      "247   http://www.rottentomatoes.com/m/his_girl_friday/  28 Dec 2004   \n",
      "248    http://www.rottentomatoes.com/m/straight_story/  07 Nov 2000   \n",
      "249  http://www.rottentomatoes.com/m/slumdog_millio...  31 Mar 2009   \n",
      "\n",
      "        BoxOffice                       Production  \\\n",
      "0             NaN                Columbia Pictures   \n",
      "1             NaN               Paramount Pictures   \n",
      "2             NaN               Paramount Pictures   \n",
      "3    $533,316,061  Warner Bros. Pictures/Legendary   \n",
      "4             NaN             Criterion Collection   \n",
      "..            ...                              ...   \n",
      "245           NaN               Paramount Pictures   \n",
      "246           NaN                         Cinedigm   \n",
      "247           NaN                Columbia Pictures   \n",
      "248           NaN             Buena Vista Pictures   \n",
      "249  $141,243,551         Fox Searchlight Pictures   \n",
      "\n",
      "                                               Website Response  \n",
      "0                                                  NaN     True  \n",
      "1                          http://www.thegodfather.com     True  \n",
      "2                         http://www.thegodfather.com/     True  \n",
      "3                 http://thedarkknight.warnerbros.com/     True  \n",
      "4    http://www.criterion.com/films/27871-12-angry-men     True  \n",
      "..                                                 ...      ...  \n",
      "245                                                NaN     True  \n",
      "246                             http://shortterm12.com     True  \n",
      "247                                                NaN     True  \n",
      "248  http://disney.go.com/DisneyPictures/straightst...     True  \n",
      "249  http://www.foxsearchlight.com/slumdogmillionaire/     True  \n",
      "\n",
      "[250 rows x 38 columns]\n"
     ]
    }
   ],
   "source": [
    "print(df)"
   ]
  },
  {
   "cell_type": "code",
   "execution_count": 6,
   "id": "a9e6594b",
   "metadata": {},
   "outputs": [],
   "source": [
    "# Remove punctuations from Plot\n",
    "df['Plot'] = df['Plot'].str.replace('[^ws]','')"
   ]
  },
  {
   "cell_type": "code",
   "execution_count": 7,
   "id": "e3e39289",
   "metadata": {},
   "outputs": [
    {
     "name": "stdout",
     "output_type": "stream",
     "text": [
      "     Unnamed: 0                     Title  Year      Rated     Released  \\\n",
      "0             1  The Shawshank Redemption  1994          R  14 Oct 1994   \n",
      "1             2             The Godfather  1972          R  24 Mar 1972   \n",
      "2             3    The Godfather: Part II  1974          R  20 Dec 1974   \n",
      "3             4           The Dark Knight  2008      PG-13  18 Jul 2008   \n",
      "4             5              12 Angry Men  1957   APPROVED  01 Apr 1957   \n",
      "..          ...                       ...   ...        ...          ...   \n",
      "245         246          The Lost Weekend  1945  NOT RATED  01 Jan 1946   \n",
      "246         247             Short Term 12  2013          R  23 Aug 2013   \n",
      "247         248           His Girl Friday  1940   APPROVED  18 Jan 1940   \n",
      "248         249        The Straight Story  1999          G  03 Nov 1999   \n",
      "249         250       Slumdog Millionaire  2008          R  25 Dec 2008   \n",
      "\n",
      "     Runtime                   Genre                      Director  \\\n",
      "0    142 min            Crime, Drama                Frank Darabont   \n",
      "1    175 min            Crime, Drama          Francis Ford Coppola   \n",
      "2    202 min            Crime, Drama          Francis Ford Coppola   \n",
      "3    152 min    Action, Crime, Drama             Christopher Nolan   \n",
      "4     96 min            Crime, Drama                  Sidney Lumet   \n",
      "..       ...                     ...                           ...   \n",
      "245  101 min        Drama, Film-Noir                  Billy Wilder   \n",
      "246   96 min                   Drama         Destin Daniel Cretton   \n",
      "247   92 min  Comedy, Drama, Romance                  Howard Hawks   \n",
      "248  112 min        Biography, Drama                   David Lynch   \n",
      "249  120 min                   Drama  Danny Boyle, Loveleen Tandan   \n",
      "\n",
      "                                                Writer  \\\n",
      "0    Stephen King (short story \"Rita Hayworth and S...   \n",
      "1    Mario Puzo (screenplay), Francis Ford Coppola ...   \n",
      "2    Francis Ford Coppola (screenplay), Mario Puzo ...   \n",
      "3    Jonathan Nolan (screenplay), Christopher Nolan...   \n",
      "4    Reginald Rose (story), Reginald Rose (screenplay)   \n",
      "..                                                 ...   \n",
      "245  Charles R. Jackson (from the novel by), Charle...   \n",
      "246                              Destin Daniel Cretton   \n",
      "247  Charles Lederer (screen play), Ben Hecht (from...   \n",
      "248                           John Roach, Mary Sweeney   \n",
      "249   Simon Beaufoy (screenplay), Vikas Swarup (novel)   \n",
      "\n",
      "                                                Actors  ... tomatoConsensus  \\\n",
      "0    Tim Robbins, Morgan Freeman, Bob Gunton, Willi...  ...             NaN   \n",
      "1    Marlon Brando, Al Pacino, James Caan, Richard ...  ...             NaN   \n",
      "2    Al Pacino, Robert Duvall, Diane Keaton, Robert...  ...             NaN   \n",
      "3    Christian Bale, Heath Ledger, Aaron Eckhart, M...  ...             NaN   \n",
      "4    Martin Balsam, John Fiedler, Lee J. Cobb, E.G....  ...             NaN   \n",
      "..                                                 ...  ...             ...   \n",
      "245  Ray Milland, Jane Wyman, Phillip Terry, Howard...  ...             NaN   \n",
      "246  Brie Larson, John Gallagher Jr., Stephanie Bea...  ...             NaN   \n",
      "247  Cary Grant, Rosalind Russell, Ralph Bellamy, G...  ...             NaN   \n",
      "248  Sissy Spacek, Jane Galloway Heitz, Joseph A. C...  ...             NaN   \n",
      "249  Dev Patel, Saurabh Shukla, Anil Kapoor, Raj Zu...  ...             NaN   \n",
      "\n",
      "    tomatoUserMeter tomatoUserRating tomatoUserReviews  \\\n",
      "0               NaN              NaN               NaN   \n",
      "1               NaN              NaN               NaN   \n",
      "2               NaN              NaN               NaN   \n",
      "3               NaN              NaN               NaN   \n",
      "4               NaN              NaN               NaN   \n",
      "..              ...              ...               ...   \n",
      "245             NaN              NaN               NaN   \n",
      "246             NaN              NaN               NaN   \n",
      "247             NaN              NaN               NaN   \n",
      "248             NaN              NaN               NaN   \n",
      "249             NaN              NaN               NaN   \n",
      "\n",
      "                                             tomatoURL          DVD  \\\n",
      "0    http://www.rottentomatoes.com/m/shawshank_rede...  27 Jan 1998   \n",
      "1           http://www.rottentomatoes.com/m/godfather/  09 Oct 2001   \n",
      "2    http://www.rottentomatoes.com/m/godfather_part...  24 May 2005   \n",
      "3     http://www.rottentomatoes.com/m/the_dark_knight/  09 Dec 2008   \n",
      "4    http://www.rottentomatoes.com/m/1000013-12_ang...  06 Mar 2001   \n",
      "..                                                 ...          ...   \n",
      "245      http://www.rottentomatoes.com/m/lost_weekend/  06 Feb 2001   \n",
      "246  http://www.rottentomatoes.com/m/short_term_12_...  14 Jan 2014   \n",
      "247   http://www.rottentomatoes.com/m/his_girl_friday/  28 Dec 2004   \n",
      "248    http://www.rottentomatoes.com/m/straight_story/  07 Nov 2000   \n",
      "249  http://www.rottentomatoes.com/m/slumdog_millio...  31 Mar 2009   \n",
      "\n",
      "        BoxOffice                       Production  \\\n",
      "0             NaN                Columbia Pictures   \n",
      "1             NaN               Paramount Pictures   \n",
      "2             NaN               Paramount Pictures   \n",
      "3    $533,316,061  Warner Bros. Pictures/Legendary   \n",
      "4             NaN             Criterion Collection   \n",
      "..            ...                              ...   \n",
      "245           NaN               Paramount Pictures   \n",
      "246           NaN                         Cinedigm   \n",
      "247           NaN                Columbia Pictures   \n",
      "248           NaN             Buena Vista Pictures   \n",
      "249  $141,243,551         Fox Searchlight Pictures   \n",
      "\n",
      "                                               Website Response  \n",
      "0                                                  NaN     True  \n",
      "1                          http://www.thegodfather.com     True  \n",
      "2                         http://www.thegodfather.com/     True  \n",
      "3                 http://thedarkknight.warnerbros.com/     True  \n",
      "4    http://www.criterion.com/films/27871-12-angry-men     True  \n",
      "..                                                 ...      ...  \n",
      "245                                                NaN     True  \n",
      "246                             http://shortterm12.com     True  \n",
      "247                                                NaN     True  \n",
      "248  http://disney.go.com/DisneyPictures/straightst...     True  \n",
      "249  http://www.foxsearchlight.com/slumdogmillionaire/     True  \n",
      "\n",
      "[250 rows x 38 columns]\n"
     ]
    }
   ],
   "source": [
    "print(df)"
   ]
  },
  {
   "cell_type": "code",
   "execution_count": 8,
   "id": "b0de7ed8",
   "metadata": {},
   "outputs": [],
   "source": [
    "# Extract key words from Plot to a list using Rake\n",
    "df['Key_words'] = ''   # Initializing a new column\n",
    "r = Rake()   # Using Rake to remove stop words\n",
    "\n",
    "for index, row in df.iterrows():\n",
    "    r.extract_keywords_from_text(row['Plot'])   # Extract key words \n",
    "    key_words_dict_scores = r.get_word_degrees()    # Get dictionary with key words and their similarity scores\n",
    "    row['Key_words'] = list(key_words_dict_scores.keys())   # Assign it to new column"
   ]
  },
  {
   "cell_type": "code",
   "execution_count": 9,
   "id": "0ca979fd",
   "metadata": {},
   "outputs": [
    {
     "data": {
      "text/plain": [
       "0       \n",
       "1       \n",
       "2       \n",
       "3       \n",
       "4       \n",
       "      ..\n",
       "245     \n",
       "246     \n",
       "247     \n",
       "248     \n",
       "249     \n",
       "Name: Key_words, Length: 250, dtype: object"
      ]
     },
     "execution_count": 9,
     "metadata": {},
     "output_type": "execute_result"
    }
   ],
   "source": [
    "df['Key_words']"
   ]
  },
  {
   "cell_type": "code",
   "execution_count": 10,
   "id": "64c1895b",
   "metadata": {},
   "outputs": [],
   "source": [
    "# Extract all genre into a list, only the first three actors into a list, and all directors into a list\n",
    "df['Genre'] = df['Genre'].map(lambda x: x.split(','))\n",
    "df['Actors'] = df['Actors'].map(lambda x: x.split(',')[:3])\n",
    "df['Director'] = df['Director'].map(lambda x: x.split(','))\n",
    "\n",
    "# Create unique names by merging firstname & surname into one word, & convert to lowercase \n",
    "for index, row in df.iterrows():\n",
    "    row['Genre'] = [x.lower().replace(' ','') for x in row['Genre']]\n",
    "    row['Actors'] = [x.lower().replace(' ','') for x in row['Actors']]\n",
    "    row['Director'] = [x.lower().replace(' ','') for x in row['Director']]\n"
   ]
  },
  {
   "cell_type": "code",
   "execution_count": 11,
   "id": "e196fc41",
   "metadata": {},
   "outputs": [
    {
     "data": {
      "text/plain": [
       "0                     [Frank Darabont]\n",
       "1               [Francis Ford Coppola]\n",
       "2               [Francis Ford Coppola]\n",
       "3                  [Christopher Nolan]\n",
       "4                       [Sidney Lumet]\n",
       "                    ...               \n",
       "245                     [Billy Wilder]\n",
       "246            [Destin Daniel Cretton]\n",
       "247                     [Howard Hawks]\n",
       "248                      [David Lynch]\n",
       "249    [Danny Boyle,  Loveleen Tandan]\n",
       "Name: Director, Length: 250, dtype: object"
      ]
     },
     "execution_count": 11,
     "metadata": {},
     "output_type": "execute_result"
    }
   ],
   "source": [
    "df['Director']"
   ]
  },
  {
   "cell_type": "code",
   "execution_count": 12,
   "id": "73a96bab",
   "metadata": {},
   "outputs": [],
   "source": [
    "# Combine 4 lists (4 columns) of key words into 1 sentence under Bag_of_words column\n",
    "df['Bag_of_words'] = ''\n",
    "columns = ['Genre', 'Director', 'Actors', 'Key_words']\n",
    "\n",
    "for index, row in df.iterrows():\n",
    "    words = ''\n",
    "    for col in columns:\n",
    "        words += ' '.join(row[col]) + ' '\n",
    "    df.at[index, 'Bag_of_words'] = words\n",
    "    "
   ]
  },
  {
   "cell_type": "code",
   "execution_count": 13,
   "id": "9135020a",
   "metadata": {},
   "outputs": [
    {
     "data": {
      "text/plain": [
       "0      Crime  Drama Frank Darabont Tim Robbins  Morga...\n",
       "1      Crime  Drama Francis Ford Coppola Marlon Brand...\n",
       "2      Crime  Drama Francis Ford Coppola Al Pacino  R...\n",
       "3      Action  Crime  Drama Christopher Nolan Christi...\n",
       "4      Crime  Drama Sidney Lumet Martin Balsam  John ...\n",
       "                             ...                        \n",
       "245    Drama  Film-Noir Billy Wilder Ray Milland  Jan...\n",
       "246    Drama Destin Daniel Cretton Brie Larson  John ...\n",
       "247    Comedy  Drama  Romance Howard Hawks Cary Grant...\n",
       "248    Biography  Drama David Lynch Sissy Spacek  Jan...\n",
       "249    Drama Danny Boyle  Loveleen Tandan Dev Patel  ...\n",
       "Name: Bag_of_words, Length: 250, dtype: object"
      ]
     },
     "execution_count": 13,
     "metadata": {},
     "output_type": "execute_result"
    }
   ],
   "source": [
    "df['Bag_of_words']"
   ]
  },
  {
   "cell_type": "code",
   "execution_count": 14,
   "id": "b85edddb",
   "metadata": {},
   "outputs": [],
   "source": [
    "# Strip white spaces in front and behind, replace multiple whitespaces (if any)\n",
    "df['Bag_of_words'] = df['Bag_of_words'].str.strip().str.replace('   ', ' ').str.replace('  ', ' ')\n",
    "\n",
    "df = df[['Title','Bag_of_words']]\n"
   ]
  },
  {
   "cell_type": "code",
   "execution_count": 15,
   "id": "8087ad3c",
   "metadata": {},
   "outputs": [
    {
     "data": {
      "text/html": [
       "<div>\n",
       "<style scoped>\n",
       "    .dataframe tbody tr th:only-of-type {\n",
       "        vertical-align: middle;\n",
       "    }\n",
       "\n",
       "    .dataframe tbody tr th {\n",
       "        vertical-align: top;\n",
       "    }\n",
       "\n",
       "    .dataframe thead th {\n",
       "        text-align: right;\n",
       "    }\n",
       "</style>\n",
       "<table border=\"1\" class=\"dataframe\">\n",
       "  <thead>\n",
       "    <tr style=\"text-align: right;\">\n",
       "      <th></th>\n",
       "      <th>Title</th>\n",
       "      <th>Bag_of_words</th>\n",
       "    </tr>\n",
       "  </thead>\n",
       "  <tbody>\n",
       "    <tr>\n",
       "      <th>0</th>\n",
       "      <td>The Shawshank Redemption</td>\n",
       "      <td>Crime Drama Frank Darabont Tim Robbins Morgan ...</td>\n",
       "    </tr>\n",
       "    <tr>\n",
       "      <th>1</th>\n",
       "      <td>The Godfather</td>\n",
       "      <td>Crime Drama Francis Ford Coppola Marlon Brando...</td>\n",
       "    </tr>\n",
       "    <tr>\n",
       "      <th>2</th>\n",
       "      <td>The Godfather: Part II</td>\n",
       "      <td>Crime Drama Francis Ford Coppola Al Pacino Rob...</td>\n",
       "    </tr>\n",
       "    <tr>\n",
       "      <th>3</th>\n",
       "      <td>The Dark Knight</td>\n",
       "      <td>Action Crime Drama Christopher Nolan Christian...</td>\n",
       "    </tr>\n",
       "    <tr>\n",
       "      <th>4</th>\n",
       "      <td>12 Angry Men</td>\n",
       "      <td>Crime Drama Sidney Lumet Martin Balsam John Fi...</td>\n",
       "    </tr>\n",
       "    <tr>\n",
       "      <th>...</th>\n",
       "      <td>...</td>\n",
       "      <td>...</td>\n",
       "    </tr>\n",
       "    <tr>\n",
       "      <th>245</th>\n",
       "      <td>The Lost Weekend</td>\n",
       "      <td>Drama Film-Noir Billy Wilder Ray Milland Jane ...</td>\n",
       "    </tr>\n",
       "    <tr>\n",
       "      <th>246</th>\n",
       "      <td>Short Term 12</td>\n",
       "      <td>Drama Destin Daniel Cretton Brie Larson John G...</td>\n",
       "    </tr>\n",
       "    <tr>\n",
       "      <th>247</th>\n",
       "      <td>His Girl Friday</td>\n",
       "      <td>Comedy Drama Romance Howard Hawks Cary Grant R...</td>\n",
       "    </tr>\n",
       "    <tr>\n",
       "      <th>248</th>\n",
       "      <td>The Straight Story</td>\n",
       "      <td>Biography Drama David Lynch Sissy Spacek Jane ...</td>\n",
       "    </tr>\n",
       "    <tr>\n",
       "      <th>249</th>\n",
       "      <td>Slumdog Millionaire</td>\n",
       "      <td>Drama Danny Boyle Loveleen Tandan Dev Patel Sa...</td>\n",
       "    </tr>\n",
       "  </tbody>\n",
       "</table>\n",
       "<p>250 rows × 2 columns</p>\n",
       "</div>"
      ],
      "text/plain": [
       "                        Title  \\\n",
       "0    The Shawshank Redemption   \n",
       "1               The Godfather   \n",
       "2      The Godfather: Part II   \n",
       "3             The Dark Knight   \n",
       "4                12 Angry Men   \n",
       "..                        ...   \n",
       "245          The Lost Weekend   \n",
       "246             Short Term 12   \n",
       "247           His Girl Friday   \n",
       "248        The Straight Story   \n",
       "249       Slumdog Millionaire   \n",
       "\n",
       "                                          Bag_of_words  \n",
       "0    Crime Drama Frank Darabont Tim Robbins Morgan ...  \n",
       "1    Crime Drama Francis Ford Coppola Marlon Brando...  \n",
       "2    Crime Drama Francis Ford Coppola Al Pacino Rob...  \n",
       "3    Action Crime Drama Christopher Nolan Christian...  \n",
       "4    Crime Drama Sidney Lumet Martin Balsam John Fi...  \n",
       "..                                                 ...  \n",
       "245  Drama Film-Noir Billy Wilder Ray Milland Jane ...  \n",
       "246  Drama Destin Daniel Cretton Brie Larson John G...  \n",
       "247  Comedy Drama Romance Howard Hawks Cary Grant R...  \n",
       "248  Biography Drama David Lynch Sissy Spacek Jane ...  \n",
       "249  Drama Danny Boyle Loveleen Tandan Dev Patel Sa...  \n",
       "\n",
       "[250 rows x 2 columns]"
      ]
     },
     "execution_count": 15,
     "metadata": {},
     "output_type": "execute_result"
    }
   ],
   "source": [
    "df"
   ]
  },
  {
   "cell_type": "code",
   "execution_count": 16,
   "id": "ef84ecdb",
   "metadata": {},
   "outputs": [],
   "source": [
    "# Generate the count matrix\n",
    "count = CountVectorizer()\n",
    "count_matrix = count.fit_transform(df['Bag_of_words'])\n",
    "\n",
    "# Compute cosine similarity matrix\n",
    "cosine_sim = cosine_similarity(count_matrix, count_matrix)\n"
   ]
  },
  {
   "cell_type": "code",
   "execution_count": 17,
   "id": "876c54ed",
   "metadata": {},
   "outputs": [
    {
     "data": {
      "text/plain": [
       "array([[1.        , 0.19069252, 0.19069252, ..., 0.09534626, 0.09534626,\n",
       "        0.09534626],\n",
       "       [0.19069252, 1.        , 0.63636364, ..., 0.09090909, 0.09090909,\n",
       "        0.09090909],\n",
       "       [0.19069252, 0.63636364, 1.        , ..., 0.09090909, 0.09090909,\n",
       "        0.09090909],\n",
       "       ...,\n",
       "       [0.09534626, 0.09090909, 0.09090909, ..., 1.        , 0.09090909,\n",
       "        0.09090909],\n",
       "       [0.09534626, 0.09090909, 0.09090909, ..., 0.09090909, 1.        ,\n",
       "        0.09090909],\n",
       "       [0.09534626, 0.09090909, 0.09090909, ..., 0.09090909, 0.09090909,\n",
       "        1.        ]])"
      ]
     },
     "execution_count": 17,
     "metadata": {},
     "output_type": "execute_result"
    }
   ],
   "source": [
    "cosine_sim"
   ]
  },
  {
   "cell_type": "code",
   "execution_count": 18,
   "id": "3b171cbb",
   "metadata": {},
   "outputs": [],
   "source": [
    "indices = pd.Series(df['Title'])"
   ]
  },
  {
   "cell_type": "code",
   "execution_count": 19,
   "id": "c3c3bcbf",
   "metadata": {},
   "outputs": [],
   "source": [
    "# Function to recommend movies based on cosine similarity\n",
    "def recommend(title, cosine_sim = cosine_sim):\n",
    "    recommended_movies = []\n",
    "    idx = indices[indices == title].index[0]   # Get the index of the movie title matching the input movie\n",
    "    score_series = pd.Series(cosine_sim[idx]).sort_values(ascending = False)   # Similarity scores in descending order\n",
    "    top_5_indices = list(score_series.iloc[1:6].index)   # Get the indices of top 5 most similar movies\n",
    "    # [1:6] to exclude 0 (index 0 is the input movie itself)\n",
    "    \n",
    "    for i in top_5_indices:   # Append the titles of top 5 similar movies to the recommended_movies list\n",
    "        recommended_movies.append(list(df['Title'])[i])\n",
    "        \n",
    "    return recommended_movies\n"
   ]
  },
  {
   "cell_type": "code",
   "execution_count": 20,
   "id": "0a873066",
   "metadata": {},
   "outputs": [
    {
     "name": "stdout",
     "output_type": "stream",
     "text": [
      "Recommended movies:\n",
      "['Spider-Man: Homecoming', 'Guardians of the Galaxy Vol. 2', 'Guardians of the Galaxy', 'The Terminator', 'Aliens']\n"
     ]
    }
   ],
   "source": [
    "# Example usage\n",
    "recommendations = recommend('The Avengers')\n",
    "print(\"Recommended movies:\")\n",
    "print(recommendations)\n"
   ]
  },
  {
   "cell_type": "code",
   "execution_count": 21,
   "id": "b28e8d45",
   "metadata": {},
   "outputs": [
    {
     "name": "stdout",
     "output_type": "stream",
     "text": [
      "Enter the movie title you want recommendations for: Forrest Gump\n",
      "Recommended movies:\n",
      "['Dead Poets Society', 'Saving Private Ryan', 'The Sting', 'Catch Me If You Can', 'Toy Story 3']\n"
     ]
    }
   ],
   "source": [
    "# User input for movie title\n",
    "user_input = input(\"Enter the movie title you want recommendations for: \")\n",
    "\n",
    "# Check if the movie title exists in the dataset\n",
    "if user_input in df['Title'].values:\n",
    "    recommendations = recommend(user_input)\n",
    "    print(\"Recommended movies:\")\n",
    "    print(recommendations)\n",
    "else:\n",
    "    print(\"Movie not found in dataset.\")"
   ]
  },
  {
   "cell_type": "code",
   "execution_count": 22,
   "id": "57434be2",
   "metadata": {},
   "outputs": [
    {
     "name": "stdout",
     "output_type": "stream",
     "text": [
      "Enter the movie title you want recommendations for: 12 Angry Men\n",
      "Recommended movies:\n",
      "['Dog Day Afternoon', 'On the Waterfront', 'Network', 'To Kill a Mockingbird', 'Taxi Driver']\n"
     ]
    }
   ],
   "source": [
    "# User input for movie title\n",
    "user_input = input(\"Enter the movie title you want recommendations for: \")\n",
    "\n",
    "# Check if the movie title exists in the dataset\n",
    "if user_input in df['Title'].values:\n",
    "    recommendations = recommend(user_input)\n",
    "    print(\"Recommended movies:\")\n",
    "    print(recommendations)\n",
    "else:\n",
    "    print(\"Movie not found in dataset.\")"
   ]
  },
  {
   "cell_type": "code",
   "execution_count": null,
   "id": "8a253b58",
   "metadata": {},
   "outputs": [],
   "source": []
  }
 ],
 "metadata": {
  "kernelspec": {
   "display_name": "Python 3 (ipykernel)",
   "language": "python",
   "name": "python3"
  },
  "language_info": {
   "codemirror_mode": {
    "name": "ipython",
    "version": 3
   },
   "file_extension": ".py",
   "mimetype": "text/x-python",
   "name": "python",
   "nbconvert_exporter": "python",
   "pygments_lexer": "ipython3",
   "version": "3.11.5"
  }
 },
 "nbformat": 4,
 "nbformat_minor": 5
}
